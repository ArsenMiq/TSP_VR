{
 "cells": [
  {
   "cell_type": "code",
   "execution_count": 17,
   "id": "7e9f2cd7",
   "metadata": {},
   "outputs": [],
   "source": [
    "import random\n",
    "import numpy as np\n",
    "import math\n",
    "import time"
   ]
  },
  {
   "cell_type": "code",
   "execution_count": 18,
   "id": "db2dd074",
   "metadata": {},
   "outputs": [
    {
     "name": "stdout",
     "output_type": "stream",
     "text": [
      "Initial random feasible solution: [6, 11, 5, 17, 13, 19, 4, 8, 7, 1, 12, 18, 2, 9, 15, 16, 3, 14, 10, 20]\n"
     ]
    }
   ],
   "source": [
    "n=21\n",
    "NFT0=0.4\n",
    "lam=0.001\n",
    "cnt=10000\n",
    "t=60\n",
    "cij=np.array([[0,34,16,38,21,8,11,26,14,28,36,12,23,12,29,30,33,13,32,23,24],\n",
    "[34,0,33,25,22,30,24,31,20,34,26,22,16,34,8,36,30,30,36,13,18],\n",
    "[16,33,0,25,31,8,13,39,20,12,23,15,30,5,26,14,19,4,16,20,16],\n",
    "[38,25,25,0,39,30,27,49,30,15,2,27,34,30,18,16,7,26,13,19,15],\n",
    "[21,22,31,39,0,24,18,10,11,38,39,16,6,29,22,40,39,27,42,20,25],\n",
    "[8,30,8,30,24,0,6,31,13,20,28,8,23,5,24,22,25,5,24,18,16],\n",
    "[11,24,13,27,18,6,0,27,7,22,26,2,17,11,19,24,24,9,26,13,13],\n",
    "[26,31,39,49,10,31,27,0,21,48,49,26,16,36,32,50,49,35,52,30,35],\n",
    "[14,20,20,30,11,13,7,21,0,27,29,5,10,18,17,29,29,16,31,12,15],\n",
    "[28,34,12,15,38,20,22,48,27,0,13,23,36,17,26,2,8,15,4,22,16],\n",
    "[36,26,23,2,39,28,26,49,29,13,0,26,34,28,19,13,5,24,11,19,14],\n",
    "[12,22,15,27,16,8,2,26,5,23,26,0,15,13,17,25,25,11,27,11,12],\n",
    "[23,16,30,34,6,23,17,16,10,36,34,15,0,28,17,38,35,26,39,15,21],\n",
    "[12,34,5,30,29,5,11,36,18,17,28,13,28,0,27,19,24,4,21,21,18],\n",
    "[29,8,26,18,22,24,19,32,17,26,19,17,17,27,0,28,22,23,28,6,10],\n",
    "[30,36,14,16,40,22,24,50,29,2,13,25,38,19,28,0,8,17,3,24,18],\n",
    "[33,30,19,7,39,25,24,49,29,8,5,25,35,24,22,8,0,20,6,20,14],\n",
    "[13,30,4,26,27,5,9,35,16,15,24,11,26,4,23,17,20,0,19,17,14],\n",
    "[32,36,16,13,42,24,26,52,31,4,11,27,39,21,28,3,6,19,0,24,18],\n",
    "[23,13,20,19,20,18,13,30,12,22,19,11,15,21,6,24,20,17,24,0,6],\n",
    "[24,18,16,15,25,16,13,35,15,16,14,12,21,18,10,18,14,14,18,6,0]])\n",
    "ei=np.array([0,41,88,132,24,0,0,3,0,112,194,0,69,0,146,105,117,0,130,0,174])\n",
    "li=np.array([345,183,247,275,137,101,76,155,140,255,308,93,202,106,289,263,264,104,233,122,308])\n",
    "li0=np.array([345,183,247,275,137,101,76,155,140,255,308,93,202,106,289,263,264,104,233,122,308])          \n",
    "li0.sort()\n",
    "Sx=[]\n",
    "for j in range(n):\n",
    "    for k in range(n):\n",
    "        if(li[k]==li0[j] and k not in Sx):\n",
    "            Sx.append(k)\n",
    "Sx.remove(0)\n",
    "A=[]\n",
    "c=0\n",
    "A.append(cij[0,Sx[0]])\n",
    "for q in range(n-2 ):\n",
    "    A.append(max(A[q],ei[Sx[q]])+cij[Sx[q],Sx[q+1]])\n",
    "    if(A[q+1]<=li[Sx[q+1]]):\n",
    "        c=c+1\n",
    "if(c<19):\n",
    "    print('initial infeasible solution: {}'.format(Sx))\n",
    "# swapping elements to see for feasibility\n",
    "B=list(Sx)\n",
    "\n",
    "\n",
    "for u in range(n-1):\n",
    "    for v in range(n-1):\n",
    "        B[u],B[v]=B[v],B[u]\n",
    "        M=[]\n",
    "        M.append(cij[0,B[0]])\n",
    "        d=0\n",
    "        for q in range(n-2):\n",
    "            M.append(max(M[q],ei[B[q]])+cij[B[q],B[q+1]])\n",
    "            if(M[q+1]<=li[B[q+1]]):\n",
    "                d=d+1\n",
    "        if(d<19):\n",
    "            funct=0\n",
    "            funct=M[-1]+cij[B[-1],0]+((19-d)*(1+(lam*t))/(NFT0))\n",
    "            if(funct<cnt):\n",
    "                cnt=funct\n",
    "                O=list(B)\n",
    "                pi0=list(O)\n",
    "        if(d==19):\n",
    "            Sl=list(B)\n",
    "            pi0=list(Sl)\n",
    "        B=list(Sx)\n",
    "\n",
    "#initial random solution\n",
    "#initial random infeasible solutions\n",
    "print('Initial random feasible solution: {}'.format(pi0))"
   ]
  },
  {
   "cell_type": "code",
   "execution_count": 19,
   "id": "b048a4a6",
   "metadata": {},
   "outputs": [
    {
     "name": "stdout",
     "output_type": "stream",
     "text": [
      "Checking feasibility of initial random solution by feasibility calculator: True\n"
     ]
    }
   ],
   "source": [
    "def calculator(pi):\n",
    "    N=[]\n",
    "    N.append(cij[0,pi[0]])\n",
    "    z=0\n",
    "    l=len(pi)\n",
    "    funct=0\n",
    "    for q in range(l-1):\n",
    "        N.append(max(N[q],ei[pi[q]])+cij[pi[q],pi[q+1]])\n",
    "        if(N[q+1]<=li[pi[q+1]]):\n",
    "            z=z+1\n",
    "    if(z<19 and l==20):\n",
    "        funct=N[-1]+cij[pi[-1],0]+((19-z)/(NFT0/(1+(lam*t))))\n",
    "    if(z==19 and l==20):\n",
    "        funct=N[-1]+cij[pi[-1],0]\n",
    "    if(l<20):\n",
    "        funct=N[-1]\n",
    "    return(np.array([19-z,funct,z==19]))\n",
    "print('Checking feasibility of initial random solution by feasibility calculator: {}'.format(calculator(pi0)[-1]==1))"
   ]
  },
  {
   "cell_type": "code",
   "execution_count": 20,
   "id": "dd839c73",
   "metadata": {},
   "outputs": [],
   "source": [
    "def VNS_1_Opt(pi):\n",
    "    kmax=2\n",
    "    k=1\n",
    "    while(k<=kmax):\n",
    "        if(k==1):\n",
    "            pi1=N1(pi)\n",
    "        if(k==2):\n",
    "            pi1=N2(pi)\n",
    "        pr0=calculator(pi)\n",
    "        pr1=calculator(pi1)\n",
    "        if((((pr1[-1]==1)and(pr0[-1]==1))and(pr1[1]<pr0[1]))\n",
    "           or((pr1[-1]==1)\n",
    "              and(pr0[-1]==0))\n",
    "           or((pr1[-1]==0)and(pr0[-1]==0)and(pr1[0]<pr0[0]))\n",
    "           or((pr0[-1]==0)and(pr1[-1]==1))):\n",
    "            pi=list(pi1)\n",
    "        else:\n",
    "            k=k+1\n",
    "    return(pi)"
   ]
  },
  {
   "cell_type": "code",
   "execution_count": 21,
   "id": "472a5254",
   "metadata": {},
   "outputs": [],
   "source": [
    "def N1(pi):\n",
    "    for i in range(n-3,1):\n",
    "        remove=cij[pi[i],pi[i+1]]+c[pi[i-1],pi[i]]-c[pi[i-1],pi[i+1]]\n",
    "        for j in range(i-1,1):\n",
    "            add=cij[pi[j-1],pi[i]]+cij[pi[i],pi[j]]-cij[pi[j-1],pi[j]]\n",
    "            gain=add-remove\n",
    "            if(gain<0)and(ei[pi[j-1]]+cij[pi[j-1],pi[i]]<=li[pi[i]])and(ei[pi[i]]+cij[pi[i],pi[j+1]]<=li[pi[j+1]]):\n",
    "                pi1=list(pi)\n",
    "                pi1.remove(pi[i])\n",
    "                pi1.insert(j,pi[i])\n",
    "                if(calculator(pi1)[1]<calculator(pi)[1]):\n",
    "                    pi=list(pi1)\n",
    "    return(pi)"
   ]
  },
  {
   "cell_type": "code",
   "execution_count": 22,
   "id": "3ce670dd",
   "metadata": {},
   "outputs": [],
   "source": [
    "def N2(pi):\n",
    "    for i in range(1,n-3):\n",
    "        remove=cij[pi[i-1],pi[i]]+cij[pi[i],pi[i+1]]-cij[pi[i-1],pi[i+1]]\n",
    "        for j in range(i+1,n-3):\n",
    "            add=cij[pi[j],pi[i]]+cij[pi[i],pi[j+1]]-cij[pi[j],pi[j+1]]\n",
    "        gain=add-remove\n",
    "        if(gain<0)and(ei[pi[i]]+cij[pi[j],pi[i]]<=li[pi[i]])and(ei[pi[i]]+cij[pi[i],pi[j+1]]<=li[pi[j+1]]):\n",
    "            pi1=list(pi)\n",
    "            pi1.remove(pi[i])\n",
    "            pi1.insert(j,pi[i])\n",
    "            if(calculator(pi1)[1]<calculator(pi)[1]):\n",
    "                    pi=list(pi1)\n",
    "    return(pi)"
   ]
  },
  {
   "cell_type": "code",
   "execution_count": 23,
   "id": "22664a67",
   "metadata": {},
   "outputs": [],
   "source": [
    "def DestructConstruct(pi,d):\n",
    "    piR=[]\n",
    "    piD=[]\n",
    "    piM=[]\n",
    "    piX=[]\n",
    "    piQ=[]\n",
    "    count=10000\n",
    "    G=list(pi)\n",
    "    piR=random.sample(G,d)\n",
    "    for i in (G):\n",
    "        if i not in(piR):\n",
    "            piD.append(i)\n",
    "    piX=list(piD)\n",
    "    for x in range(d):\n",
    "        piM=list(piX)\n",
    "        for y in range(len(pi)-d):\n",
    "            piM.insert(y,piR[x])\n",
    "            if(calculator(piM)[1]<count):\n",
    "                piQ=list(piM)\n",
    "                count=calculator(piM)[1]\n",
    "            piM=list(piX)\n",
    "            count=10000\n",
    "        piX=list(piQ)\n",
    "    if(piX==[]):\n",
    "        return (piR)\n",
    "    else:\n",
    "        return(piX)"
   ]
  },
  {
   "cell_type": "code",
   "execution_count": 24,
   "id": "77b38b78",
   "metadata": {},
   "outputs": [
    {
     "name": "stdout",
     "output_type": "stream",
     "text": [
      "The best solution obtained after VIG algorithm:[6, 11, 5, 17, 13, 19, 4, 8, 7, 1, 12, 18, 2, 9, 15, 16, 3, 14, 10, 20]\n",
      "The value of the function is: 309\n",
      "0\n"
     ]
    }
   ],
   "source": [
    "kmax=((n-1)/5)\n",
    "pi=VNS_1_Opt(pi0)\n",
    "pibest=list(pi)\n",
    "k=1\n",
    "\n",
    "while(k<=kmax):\n",
    "    d=k*5\n",
    "    pi1=DestructConstruct(pi,d)\n",
    "    pi2=VNS_1_Opt(pi1)\n",
    "    pc=calculator(pi)\n",
    "    pc2=calculator(pi2)\n",
    "    pcbest=calculator(pibest)\n",
    "    if((((pc2[-1]==1)and(pc[-1]==1))and(pc2[1]<pc[1]))\n",
    "       or((pc2[-1]==1)and(pc[-1]==0))\n",
    "       or((pc2[-1]==0)and(pc[-1]==0)and(pc2[0]<pc[0]))\n",
    "       or((pc[-1]==0)and(pc2[-1]==1))):\n",
    "        k=1\n",
    "        pi=list(pi2)\n",
    "        pc=calculator(pi)\n",
    "        if((((pc[-1]==1)and(pcbest[-1]==1))and(pc[1]<pcbest[1]))\n",
    "           or((pc[-1]==1)and(pcbest[-1]==0))\n",
    "           or((pc[-1]==0)and(pcbest[-1]==0)and(pc[0]<pcbest[0]))\n",
    "           or((pcbest[-1]==0)and(pc[-1]==1))):\n",
    "            pibest=list(pi)\n",
    "    else:\n",
    "        k=k+1\n",
    "print('The best solution obtained after VIG algorithm:{}'.format(pibest))\n",
    "print('The value of the function is: {}'.format(calculator(pibest)[1]))\n",
    "print(time.CLOCK_REALTIME)  "
   ]
  },
  {
   "cell_type": "markdown",
   "id": "cd28e2c8",
   "metadata": {},
   "source": [
    "The link math:\n",
    "https://link.springer.com/article/10.1007/s11750-022-00632-6#ref-CR24"
   ]
  },
  {
   "cell_type": "markdown",
   "id": "f2805670",
   "metadata": {},
   "source": [
    "<font color='green'>TODO:</font> Print graph for the best routh of locations"
   ]
  }
 ],
 "metadata": {
  "kernelspec": {
   "display_name": "Python 3 (ipykernel)",
   "language": "python",
   "name": "python3"
  },
  "language_info": {
   "codemirror_mode": {
    "name": "ipython",
    "version": 3
   },
   "file_extension": ".py",
   "mimetype": "text/x-python",
   "name": "python",
   "nbconvert_exporter": "python",
   "pygments_lexer": "ipython3",
   "version": "3.10.2"
  }
 },
 "nbformat": 4,
 "nbformat_minor": 5
}
